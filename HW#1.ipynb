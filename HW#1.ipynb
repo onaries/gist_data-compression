{
 "cells": [
  {
   "cell_type": "markdown",
   "metadata": {},
   "source": [
    "# Homework Assignment #1 \n",
    "Minumum Variance Huffman Coding\n",
    "\n",
    "예제 문장 한개 선택 후 문자별 카운트  \n",
    "문자별 확률을 기준으로 sorting\n",
    "\n",
    ">code"
   ]
  },
  {
   "cell_type": "code",
   "execution_count": 1,
   "metadata": {},
   "outputs": [],
   "source": [
    "from operator import itemgetter"
   ]
  },
  {
   "cell_type": "code",
   "execution_count": 2,
   "metadata": {},
   "outputs": [],
   "source": [
    "codes={}"
   ]
  },
  {
   "cell_type": "code",
   "execution_count": 3,
   "metadata": {},
   "outputs": [],
   "source": [
    "# 알파벳 카운트\n",
    "def frequency(string):\n",
    "    \n",
    "    # Dictionary 타입 변수 초기화\n",
    "    freq={}\n",
    "    \n",
    "    # 각 문자별 \n",
    "    for word in string:\n",
    "        \n",
    "        # 문자별 개수 카운트 \n",
    "        # get() Method\n",
    "        # get(key, default=None)\n",
    "        freq[word] = freq.get(word, 0) + 1\n",
    "        \n",
    "    return freq"
   ]
  },
  {
   "cell_type": "code",
   "execution_count": 4,
   "metadata": {},
   "outputs": [],
   "source": [
    "# 정렬\n",
    "def sort(freq):\n",
    "    \n",
    "    # Dictionary의 Key 가져오기\n",
    "    words = freq.keys()\n",
    "    \n",
    "    # tuple이 들어갈 리스트 초기화\n",
    "    tuples = []\n",
    "    \n",
    "    # Dictionary의 Key\n",
    "    for word in words:\n",
    "        \n",
    "        # 리스트에 튜플 추가\n",
    "        tuples.append((freq[word], word))\n",
    "    \n",
    "    # 리스트 정렬\n",
    "    tuples.sort()\n",
    "    \n",
    "    # 반환\n",
    "    return tuples"
   ]
  },
  {
   "cell_type": "code",
   "execution_count": 7,
   "metadata": {},
   "outputs": [],
   "source": [
    "# 트리 생성\n",
    "def buildTree(tuples):\n",
    "    \n",
    "    # \n",
    "    while len(tuples) > 1:\n",
    "        \n",
    "        # 확률이 제일 낮은 2개 선택\n",
    "        leastTwo = tuple(tuples[0:2])\n",
    "        \n",
    "        # 나머지\n",
    "        theRest = tuples[2:]\n",
    "        \n",
    "        # 확률이 제일 낮은 2개에서 빈도수를 더함\n",
    "        combFreq = leastTwo[0][0] + leastTwo[1][0]\n",
    "        \n",
    "        # 새로운 리스트 생성\n",
    "        tuples = theRest + [(combFreq, leastTwo)]\n",
    "        \n",
    "        # 리스트 정렬 (앞에 있는 숫자를 이용하여)\n",
    "        tuples.sort(key=itemgetter(0))\n",
    "        \n",
    "    # 반환되는 값은 하나의 튜플\n",
    "    return tuples[0]"
   ]
  },
  {
   "cell_type": "code",
   "execution_count": 8,
   "metadata": {},
   "outputs": [
    {
     "name": "stdout",
     "output_type": "stream",
     "text": [
      "(15, ((6, ((3, 'a'), (3, ((1, 'g'), (2, 'c'))))), (9, ((4, ((2, 'f'), (2, ((1, 'b'), (1, 'd'))))), (5, 'e')))))\n"
     ]
    }
   ],
   "source": [
    "print(buildTree(sort(frequency(\"aaabccdeeeeeffg\"))))"
   ]
  },
  {
   "cell_type": "code",
   "execution_count": 11,
   "metadata": {},
   "outputs": [
    {
     "data": {
      "text/plain": [
       "True"
      ]
     },
     "execution_count": 11,
     "metadata": {},
     "output_type": "execute_result"
    }
   ],
   "source": [
    "type('a') == type('')"
   ]
  },
  {
   "cell_type": "code",
   "execution_count": 14,
   "metadata": {},
   "outputs": [],
   "source": [
    "def trimTree(tree):\n",
    "    \n",
    "    # p는 알파벳\n",
    "    p = tree[1]\n",
    "    \n",
    "    # p가 문자열 타입이면\n",
    "    if type(p) == type(''):\n",
    "        \n",
    "        # p를 반환\n",
    "        return p\n",
    "    \n",
    "    # 아니면\n",
    "    else:\n",
    "        \n",
    "        # 재귀함수\n",
    "        return (trimTree(p[0]), trimTree(p[1]))"
   ]
  },
  {
   "cell_type": "code",
   "execution_count": 15,
   "metadata": {},
   "outputs": [
    {
     "name": "stdout",
     "output_type": "stream",
     "text": [
      "(('a', ('g', 'c')), (('f', ('b', 'd')), 'e'))\n"
     ]
    }
   ],
   "source": [
    "print(trimTree(buildTree(sort(frequency(\"aaabccdeeeeeffg\")))))"
   ]
  },
  {
   "cell_type": "code",
   "execution_count": 16,
   "metadata": {},
   "outputs": [],
   "source": [
    "# 코드 할당\n",
    "def assignCodes(nodes, pat=''):\n",
    "    global codes\n",
    "    if type(nodes) == type(''):\n",
    "        codes[nodes] = pat\n",
    "    else:\n",
    "        assignCodes(nodes[0], pat+'0')\n",
    "        assignCodes(nodes[1], pat+'1')"
   ]
  },
  {
   "cell_type": "code",
   "execution_count": 17,
   "metadata": {},
   "outputs": [
    {
     "name": "stdout",
     "output_type": "stream",
     "text": [
      "{}\n"
     ]
    }
   ],
   "source": [
    "tree = trimTree(buildTree(sort(frequency(\"aaabccdeeeeeffg\"))))\n",
    "print(codes)"
   ]
  },
  {
   "cell_type": "code",
   "execution_count": 18,
   "metadata": {},
   "outputs": [],
   "source": [
    "assignCodes(tree)"
   ]
  },
  {
   "cell_type": "code",
   "execution_count": 19,
   "metadata": {},
   "outputs": [
    {
     "name": "stdout",
     "output_type": "stream",
     "text": [
      "{'g': '010', 'e': '11', 'a': '00', 'd': '1011', 'b': '1010', 'f': '100', 'c': '011'}\n"
     ]
    }
   ],
   "source": [
    "print(codes)"
   ]
  },
  {
   "cell_type": "code",
   "execution_count": 20,
   "metadata": {},
   "outputs": [],
   "source": [
    "def encode(string):\n",
    "    global codes\n",
    "    output = ''\n",
    "    for ch in string:\n",
    "        output += codes[ch]\n",
    "    return output"
   ]
  },
  {
   "cell_type": "code",
   "execution_count": 21,
   "metadata": {},
   "outputs": [
    {
     "name": "stdout",
     "output_type": "stream",
     "text": [
      "000000101001101110111111111111100100010\n"
     ]
    }
   ],
   "source": [
    "print(encode(\"aaabccdeeeeeffg\"))"
   ]
  },
  {
   "cell_type": "code",
   "execution_count": 22,
   "metadata": {},
   "outputs": [],
   "source": [
    "def decode(tree, s):\n",
    "    output = ''\n",
    "    p = tree\n",
    "    for b in s:\n",
    "        if b == '0':\n",
    "            p = p[0]\n",
    "        else:\n",
    "            p = p[1]\n",
    "        \n",
    "        if type(p) == type(''):\n",
    "            output += p\n",
    "            p = tree\n",
    "    return output"
   ]
  },
  {
   "cell_type": "code",
   "execution_count": 23,
   "metadata": {},
   "outputs": [
    {
     "name": "stdout",
     "output_type": "stream",
     "text": [
      "aaabccdeeeeeffg\n"
     ]
    }
   ],
   "source": [
    "print(decode(tree, '000000101001101110111111111111100100010'))"
   ]
  },
  {
   "cell_type": "code",
   "execution_count": null,
   "metadata": {},
   "outputs": [],
   "source": []
  }
 ],
 "metadata": {
  "kernelspec": {
   "display_name": "Python 3",
   "language": "python",
   "name": "python3"
  },
  "language_info": {
   "codemirror_mode": {
    "name": "ipython",
    "version": 3
   },
   "file_extension": ".py",
   "mimetype": "text/x-python",
   "name": "python",
   "nbconvert_exporter": "python",
   "pygments_lexer": "ipython3",
   "version": "3.5.4"
  }
 },
 "nbformat": 4,
 "nbformat_minor": 2
}
