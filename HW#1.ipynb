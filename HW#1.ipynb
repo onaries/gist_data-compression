{
 "cells": [
  {
   "cell_type": "markdown",
   "metadata": {},
   "source": [
    "# Homework Assignment #1 \n",
    "Minumum Variance Huffman Coding\n",
    "\n",
    "예제 문장 한개 선택 후 문자별 카운트  \n",
    "문자별 확률을 기준으로 sorting\n",
    "\n",
    ">code"
   ]
  },
  {
   "cell_type": "code",
   "execution_count": 18,
   "metadata": {},
   "outputs": [],
   "source": [
    "from operator import itemgetter"
   ]
  },
  {
   "cell_type": "code",
   "execution_count": 31,
   "metadata": {},
   "outputs": [],
   "source": [
    "codes={}"
   ]
  },
  {
   "cell_type": "code",
   "execution_count": 1,
   "metadata": {},
   "outputs": [],
   "source": [
    "# 알파벳 카운트\n",
    "def frequency(string):\n",
    "    \n",
    "    # Dictionary 타입 변수 초기화\n",
    "    freq={}\n",
    "    \n",
    "    # 각 문자별 \n",
    "    for word in string:\n",
    "        \n",
    "        # 문자별 개수 카운트 \n",
    "        # get() Method\n",
    "        # get(key, default=None)\n",
    "        freq[word] = freq.get(word, 0) + 1\n",
    "        \n",
    "    return freq"
   ]
  },
  {
   "cell_type": "code",
   "execution_count": 3,
   "metadata": {},
   "outputs": [],
   "source": [
    "# 정렬\n",
    "def sort(freq):\n",
    "    \n",
    "    # Dictionary의 Key 가져오기\n",
    "    words = freq.keys()\n",
    "    \n",
    "    # tuple이 들어갈 리스트 초기화\n",
    "    tuples = []\n",
    "    \n",
    "    # Dictionary의 Key\n",
    "    for word in words:\n",
    "        \n",
    "        # 리스트에 튜플 추가\n",
    "        tuples.append((freq[word], word))\n",
    "    \n",
    "    # 리스트 정렬\n",
    "    tuples.sort()\n",
    "    \n",
    "    # 반환\n",
    "    return tuples"
   ]
  },
  {
   "cell_type": "code",
   "execution_count": 19,
   "metadata": {},
   "outputs": [],
   "source": [
    "# 트리 생성\n",
    "def buildTree(tuples):\n",
    "    \n",
    "    # \n",
    "    while len(tuples) > 1:\n",
    "        leastTwo = tuple(tuples[0:2])\n",
    "        print(leastTwo)\n",
    "        theRest = tuples[2:]\n",
    "        print(theRest)\n",
    "        combFreq = leastTwo[0][0] + leastTwo[1][0]\n",
    "        print(combFreq)\n",
    "        tuples = theRest + [(combFreq, leastTwo)]\n",
    "        print(tuples)\n",
    "        tuples.sort(key=itemgetter(0))\n",
    "        \n",
    "    return tuples[0]"
   ]
  },
  {
   "cell_type": "code",
   "execution_count": 20,
   "metadata": {},
   "outputs": [
    {
     "name": "stdout",
     "output_type": "stream",
     "text": [
      "((1, 'b'), (1, 'd'))\n",
      "[(1, 'g'), (2, 'c'), (2, 'f'), (3, 'a'), (5, 'e')]\n",
      "2\n",
      "[(1, 'g'), (2, 'c'), (2, 'f'), (3, 'a'), (5, 'e'), (2, ((1, 'b'), (1, 'd')))]\n",
      "((1, 'g'), (2, 'c'))\n",
      "[(2, 'f'), (2, ((1, 'b'), (1, 'd'))), (3, 'a'), (5, 'e')]\n",
      "3\n",
      "[(2, 'f'), (2, ((1, 'b'), (1, 'd'))), (3, 'a'), (5, 'e'), (3, ((1, 'g'), (2, 'c')))]\n",
      "((2, 'f'), (2, ((1, 'b'), (1, 'd'))))\n",
      "[(3, 'a'), (3, ((1, 'g'), (2, 'c'))), (5, 'e')]\n",
      "4\n",
      "[(3, 'a'), (3, ((1, 'g'), (2, 'c'))), (5, 'e'), (4, ((2, 'f'), (2, ((1, 'b'), (1, 'd')))))]\n",
      "((3, 'a'), (3, ((1, 'g'), (2, 'c'))))\n",
      "[(4, ((2, 'f'), (2, ((1, 'b'), (1, 'd'))))), (5, 'e')]\n",
      "6\n",
      "[(4, ((2, 'f'), (2, ((1, 'b'), (1, 'd'))))), (5, 'e'), (6, ((3, 'a'), (3, ((1, 'g'), (2, 'c')))))]\n",
      "((4, ((2, 'f'), (2, ((1, 'b'), (1, 'd'))))), (5, 'e'))\n",
      "[(6, ((3, 'a'), (3, ((1, 'g'), (2, 'c')))))]\n",
      "9\n",
      "[(6, ((3, 'a'), (3, ((1, 'g'), (2, 'c'))))), (9, ((4, ((2, 'f'), (2, ((1, 'b'), (1, 'd'))))), (5, 'e')))]\n",
      "((6, ((3, 'a'), (3, ((1, 'g'), (2, 'c'))))), (9, ((4, ((2, 'f'), (2, ((1, 'b'), (1, 'd'))))), (5, 'e'))))\n",
      "[]\n",
      "15\n",
      "[(15, ((6, ((3, 'a'), (3, ((1, 'g'), (2, 'c'))))), (9, ((4, ((2, 'f'), (2, ((1, 'b'), (1, 'd'))))), (5, 'e')))))]\n",
      "(15, ((6, ((3, 'a'), (3, ((1, 'g'), (2, 'c'))))), (9, ((4, ((2, 'f'), (2, ((1, 'b'), (1, 'd'))))), (5, 'e')))))\n"
     ]
    }
   ],
   "source": [
    "print(buildTree(sort(frequency(\"aaabccdeeeeeffg\"))))"
   ]
  },
  {
   "cell_type": "code",
   "execution_count": 21,
   "metadata": {},
   "outputs": [],
   "source": [
    "def trimTree(tree):\n",
    "    p = tree[1]\n",
    "    \n",
    "    if type(p) == type(''):\n",
    "        return p\n",
    "    else:\n",
    "        return (trimTree(p[0]), trimTree(p[1]))"
   ]
  },
  {
   "cell_type": "code",
   "execution_count": 22,
   "metadata": {},
   "outputs": [
    {
     "name": "stdout",
     "output_type": "stream",
     "text": [
      "((1, 'b'), (1, 'd'))\n",
      "[(1, 'g'), (2, 'c'), (2, 'f'), (3, 'a'), (5, 'e')]\n",
      "2\n",
      "[(1, 'g'), (2, 'c'), (2, 'f'), (3, 'a'), (5, 'e'), (2, ((1, 'b'), (1, 'd')))]\n",
      "((1, 'g'), (2, 'c'))\n",
      "[(2, 'f'), (2, ((1, 'b'), (1, 'd'))), (3, 'a'), (5, 'e')]\n",
      "3\n",
      "[(2, 'f'), (2, ((1, 'b'), (1, 'd'))), (3, 'a'), (5, 'e'), (3, ((1, 'g'), (2, 'c')))]\n",
      "((2, 'f'), (2, ((1, 'b'), (1, 'd'))))\n",
      "[(3, 'a'), (3, ((1, 'g'), (2, 'c'))), (5, 'e')]\n",
      "4\n",
      "[(3, 'a'), (3, ((1, 'g'), (2, 'c'))), (5, 'e'), (4, ((2, 'f'), (2, ((1, 'b'), (1, 'd')))))]\n",
      "((3, 'a'), (3, ((1, 'g'), (2, 'c'))))\n",
      "[(4, ((2, 'f'), (2, ((1, 'b'), (1, 'd'))))), (5, 'e')]\n",
      "6\n",
      "[(4, ((2, 'f'), (2, ((1, 'b'), (1, 'd'))))), (5, 'e'), (6, ((3, 'a'), (3, ((1, 'g'), (2, 'c')))))]\n",
      "((4, ((2, 'f'), (2, ((1, 'b'), (1, 'd'))))), (5, 'e'))\n",
      "[(6, ((3, 'a'), (3, ((1, 'g'), (2, 'c')))))]\n",
      "9\n",
      "[(6, ((3, 'a'), (3, ((1, 'g'), (2, 'c'))))), (9, ((4, ((2, 'f'), (2, ((1, 'b'), (1, 'd'))))), (5, 'e')))]\n",
      "((6, ((3, 'a'), (3, ((1, 'g'), (2, 'c'))))), (9, ((4, ((2, 'f'), (2, ((1, 'b'), (1, 'd'))))), (5, 'e'))))\n",
      "[]\n",
      "15\n",
      "[(15, ((6, ((3, 'a'), (3, ((1, 'g'), (2, 'c'))))), (9, ((4, ((2, 'f'), (2, ((1, 'b'), (1, 'd'))))), (5, 'e')))))]\n",
      "(('a', ('g', 'c')), (('f', ('b', 'd')), 'e'))\n"
     ]
    }
   ],
   "source": [
    "print(trimTree(buildTree(sort(frequency(\"aaabccdeeeeeffg\")))))"
   ]
  },
  {
   "cell_type": "code",
   "execution_count": 32,
   "metadata": {},
   "outputs": [],
   "source": [
    "def assignCodes(nodes, pat=''):\n",
    "    global codes\n",
    "    if type(nodes) == type(''):\n",
    "        codes[nodes] = pat\n",
    "    else:\n",
    "        assignCodes(nodes[0], pat+'0')\n",
    "        assignCodes(nodes[1], pat+'1')"
   ]
  },
  {
   "cell_type": "code",
   "execution_count": 33,
   "metadata": {},
   "outputs": [
    {
     "name": "stdout",
     "output_type": "stream",
     "text": [
      "((1, 'b'), (1, 'd'))\n",
      "[(1, 'g'), (2, 'c'), (2, 'f'), (3, 'a'), (5, 'e')]\n",
      "2\n",
      "[(1, 'g'), (2, 'c'), (2, 'f'), (3, 'a'), (5, 'e'), (2, ((1, 'b'), (1, 'd')))]\n",
      "((1, 'g'), (2, 'c'))\n",
      "[(2, 'f'), (2, ((1, 'b'), (1, 'd'))), (3, 'a'), (5, 'e')]\n",
      "3\n",
      "[(2, 'f'), (2, ((1, 'b'), (1, 'd'))), (3, 'a'), (5, 'e'), (3, ((1, 'g'), (2, 'c')))]\n",
      "((2, 'f'), (2, ((1, 'b'), (1, 'd'))))\n",
      "[(3, 'a'), (3, ((1, 'g'), (2, 'c'))), (5, 'e')]\n",
      "4\n",
      "[(3, 'a'), (3, ((1, 'g'), (2, 'c'))), (5, 'e'), (4, ((2, 'f'), (2, ((1, 'b'), (1, 'd')))))]\n",
      "((3, 'a'), (3, ((1, 'g'), (2, 'c'))))\n",
      "[(4, ((2, 'f'), (2, ((1, 'b'), (1, 'd'))))), (5, 'e')]\n",
      "6\n",
      "[(4, ((2, 'f'), (2, ((1, 'b'), (1, 'd'))))), (5, 'e'), (6, ((3, 'a'), (3, ((1, 'g'), (2, 'c')))))]\n",
      "((4, ((2, 'f'), (2, ((1, 'b'), (1, 'd'))))), (5, 'e'))\n",
      "[(6, ((3, 'a'), (3, ((1, 'g'), (2, 'c')))))]\n",
      "9\n",
      "[(6, ((3, 'a'), (3, ((1, 'g'), (2, 'c'))))), (9, ((4, ((2, 'f'), (2, ((1, 'b'), (1, 'd'))))), (5, 'e')))]\n",
      "((6, ((3, 'a'), (3, ((1, 'g'), (2, 'c'))))), (9, ((4, ((2, 'f'), (2, ((1, 'b'), (1, 'd'))))), (5, 'e'))))\n",
      "[]\n",
      "15\n",
      "[(15, ((6, ((3, 'a'), (3, ((1, 'g'), (2, 'c'))))), (9, ((4, ((2, 'f'), (2, ((1, 'b'), (1, 'd'))))), (5, 'e')))))]\n",
      "{}\n"
     ]
    }
   ],
   "source": [
    "tree = trimTree(buildTree(sort(frequency(\"aaabccdeeeeeffg\"))))\n",
    "print(codes)"
   ]
  },
  {
   "cell_type": "code",
   "execution_count": 34,
   "metadata": {},
   "outputs": [],
   "source": [
    "assignCodes(tree)"
   ]
  },
  {
   "cell_type": "code",
   "execution_count": 35,
   "metadata": {},
   "outputs": [
    {
     "name": "stdout",
     "output_type": "stream",
     "text": [
      "{'f': '100', 'a': '00', 'b': '1010', 'e': '11', 'g': '010', 'd': '1011', 'c': '011'}\n"
     ]
    }
   ],
   "source": [
    "print(codes)"
   ]
  },
  {
   "cell_type": "code",
   "execution_count": 36,
   "metadata": {},
   "outputs": [],
   "source": [
    "def encode(string):\n",
    "    global codes\n",
    "    output = ''\n",
    "    for ch in string:\n",
    "        output += codes[ch]\n",
    "    return output"
   ]
  },
  {
   "cell_type": "code",
   "execution_count": 37,
   "metadata": {},
   "outputs": [
    {
     "name": "stdout",
     "output_type": "stream",
     "text": [
      "000000101001101110111111111111100100010\n"
     ]
    }
   ],
   "source": [
    "print(encode(\"aaabccdeeeeeffg\"))"
   ]
  },
  {
   "cell_type": "code",
   "execution_count": 38,
   "metadata": {},
   "outputs": [],
   "source": [
    "def decode(tree, s):\n",
    "    output = ''\n",
    "    p = tree\n",
    "    for b in s:\n",
    "        if b == '0':\n",
    "            p = p[0]\n",
    "        else:\n",
    "            p = p[1]\n",
    "        \n",
    "        if type(p) == type(''):\n",
    "            output += p\n",
    "            p = tree\n",
    "    return output"
   ]
  },
  {
   "cell_type": "code",
   "execution_count": 40,
   "metadata": {},
   "outputs": [
    {
     "name": "stdout",
     "output_type": "stream",
     "text": [
      "aaabccdeeeeeffg\n"
     ]
    }
   ],
   "source": [
    "print(decode(tree, '000000101001101110111111111111100100010'))"
   ]
  },
  {
   "cell_type": "code",
   "execution_count": null,
   "metadata": {},
   "outputs": [],
   "source": []
  }
 ],
 "metadata": {
  "kernelspec": {
   "display_name": "Python 3",
   "language": "python",
   "name": "python3"
  },
  "language_info": {
   "codemirror_mode": {
    "name": "ipython",
    "version": 3
   },
   "file_extension": ".py",
   "mimetype": "text/x-python",
   "name": "python",
   "nbconvert_exporter": "python",
   "pygments_lexer": "ipython3",
   "version": "3.5.4"
  }
 },
 "nbformat": 4,
 "nbformat_minor": 2
}
