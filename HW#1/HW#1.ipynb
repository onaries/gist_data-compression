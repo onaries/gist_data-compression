{
 "cells": [
  {
   "cell_type": "markdown",
   "metadata": {},
   "source": [
    "# Homework Assignment #1 (Due: 9/29)\n",
    "Minumum Variance Huffman Coding"
   ]
  },
  {
   "cell_type": "code",
   "execution_count": 1,
   "metadata": {},
   "outputs": [],
   "source": [
    "from operator import itemgetter"
   ]
  },
  {
   "cell_type": "code",
   "execution_count": 2,
   "metadata": {},
   "outputs": [],
   "source": [
    "codes={}"
   ]
  },
  {
   "cell_type": "code",
   "execution_count": 3,
   "metadata": {},
   "outputs": [],
   "source": [
    "# 알파벳 카운트\n",
    "def frequency(string):\n",
    "    \n",
    "    # Dictionary 타입 변수 초기화\n",
    "    freq={}\n",
    "    \n",
    "    # 각 문자별 \n",
    "    for word in string:\n",
    "        \n",
    "        # 문자별 개수 카운트 \n",
    "        # get() Method\n",
    "        # get(key, default=None)\n",
    "        freq[word] = freq.get(word, 0) + 1\n",
    "        \n",
    "    return freq"
   ]
  },
  {
   "cell_type": "code",
   "execution_count": 4,
   "metadata": {},
   "outputs": [],
   "source": [
    "# 정렬\n",
    "def sort(freq):\n",
    "    \n",
    "    # Dictionary의 Key 가져오기\n",
    "    words = freq.keys()\n",
    "    \n",
    "    # tuple이 들어갈 리스트 초기화\n",
    "    tuples = []\n",
    "    \n",
    "    # Dictionary의 Key\n",
    "    for word in words:\n",
    "        \n",
    "        # 리스트에 튜플 추가\n",
    "        tuples.append((freq[word], word))\n",
    "    \n",
    "    # 리스트 정렬\n",
    "    tuples.sort()\n",
    "    \n",
    "    # 반환\n",
    "    return tuples"
   ]
  },
  {
   "cell_type": "code",
   "execution_count": 5,
   "metadata": {},
   "outputs": [],
   "source": [
    "# 트리 생성\n",
    "def buildTree(tuples):\n",
    "    \n",
    "    # \n",
    "    while len(tuples) > 1:\n",
    "        \n",
    "        # 확률이 제일 낮은 2개 선택\n",
    "        leastTwo = tuple(tuples[0:2])\n",
    "        \n",
    "        # 나머지\n",
    "        theRest = tuples[2:]\n",
    "        \n",
    "        # 확률이 제일 낮은 2개에서 빈도수를 더함\n",
    "        combFreq = leastTwo[0][0] + leastTwo[1][0]\n",
    "        \n",
    "        # 새로운 리스트 생성\n",
    "        tuples = theRest + [(combFreq, leastTwo)]\n",
    "        \n",
    "        # 리스트 정렬 (앞에 있는 숫자를 이용하여)\n",
    "        tuples.sort(key=itemgetter(0))\n",
    "        \n",
    "    # 반환되는 값은 하나의 튜플\n",
    "    return tuples[0]"
   ]
  },
  {
   "cell_type": "code",
   "execution_count": 6,
   "metadata": {},
   "outputs": [],
   "source": [
    "def trimTree(tree):\n",
    "    \n",
    "    # p는 알파벳\n",
    "    p = tree[1]\n",
    "    \n",
    "    # p가 문자열 타입이면\n",
    "    if type(p) == type(''):\n",
    "        \n",
    "        # p를 반환\n",
    "        return p\n",
    "    \n",
    "    # 아니면\n",
    "    else:\n",
    "        \n",
    "        # 재귀함수\n",
    "        return (trimTree(p[0]), trimTree(p[1]))"
   ]
  },
  {
   "cell_type": "code",
   "execution_count": 7,
   "metadata": {},
   "outputs": [],
   "source": [
    "# 코드 할당\n",
    "def assignCodes(nodes, pat=''):\n",
    "    global codes\n",
    "    if type(nodes) == type(''):\n",
    "        codes[nodes] = pat\n",
    "    else:\n",
    "        assignCodes(nodes[0], pat+'0')\n",
    "        assignCodes(nodes[1], pat+'1')"
   ]
  },
  {
   "cell_type": "code",
   "execution_count": 8,
   "metadata": {},
   "outputs": [],
   "source": [
    "# 데이터 입력\n",
    "def inputData(data):\n",
    "    global tree\n",
    "    tree = trimTree(buildTree(sort(frequency(data))))\n",
    "    assignCodes(tree)\n",
    "    print('input the data string : ', data)\n",
    "    print('complete assign code ')"
   ]
  },
  {
   "cell_type": "code",
   "execution_count": 9,
   "metadata": {},
   "outputs": [],
   "source": [
    "# 인코딩\n",
    "def encode(string):\n",
    "    global codes\n",
    "    output = ''\n",
    "    for ch in string:\n",
    "        output += codes[ch]\n",
    "    return output"
   ]
  },
  {
   "cell_type": "code",
   "execution_count": 10,
   "metadata": {},
   "outputs": [],
   "source": [
    "# 디코딩\n",
    "def decode(tree, s):\n",
    "    output = ''\n",
    "    p = tree\n",
    "    for b in s:\n",
    "        if b == '0':\n",
    "            p = p[0]\n",
    "        else:\n",
    "            p = p[1]\n",
    "\n",
    "        if type(p) == type(''):\n",
    "            output += p\n",
    "            p = tree\n",
    "    return output"
   ]
  },
  {
   "cell_type": "code",
   "execution_count": 19,
   "metadata": {},
   "outputs": [],
   "source": [
    "codes={}"
   ]
  },
  {
   "cell_type": "code",
   "execution_count": 20,
   "metadata": {},
   "outputs": [],
   "source": [
    "textFile = open('text.txt')"
   ]
  },
  {
   "cell_type": "code",
   "execution_count": 21,
   "metadata": {},
   "outputs": [],
   "source": [
    "text = textFile.readline()"
   ]
  },
  {
   "cell_type": "code",
   "execution_count": 22,
   "metadata": {},
   "outputs": [
    {
     "name": "stdout",
     "output_type": "stream",
     "text": [
      "input the data string :  In this chapter we describe a very popular coding algorithm called the Huffman coding algorithm. We first present a procedure for building Huffman codes when the probability model for the source is known, then a procedure for building codes when the source statistics are unknown. We also describe a few techniques for code design that are in some sense similar to the Huffman coding approach. Finally, we give some examples of using the Huffman code for image compression, audio compression, and text compression\n",
      "complete assign code \n"
     ]
    }
   ],
   "source": [
    "inputData(text)"
   ]
  },
  {
   "cell_type": "code",
   "execution_count": 23,
   "metadata": {},
   "outputs": [
    {
     "name": "stdout",
     "output_type": "stream",
     "text": [
      "{'v': '10001111', 'a': '0011', 'x': '11110000', 'u': '10000', 'q': '10001000', 'i': '1001', 'm': '01111', 'f': '10100', 'l': '01110', 'h': '10101', 'I': '111100011', 'n': '0101', 't': '11111', 'p': '00100', 'c': '11101', 'w': '001011', 'W': '10001001', 'o': '1011', 'y': '0010101', '.': '0010100', 'r': '0100', 'F': '111100010', ' ': '110', 'd': '11100', 'H': '1000110', ',': '1000101', 'k': '10001110', 's': '0110', 'b': '1111001', 'g': '111101', 'e': '000'}\n"
     ]
    }
   ],
   "source": [
    "print(codes)"
   ]
  },
  {
   "cell_type": "code",
   "execution_count": 25,
   "metadata": {},
   "outputs": [
    {
     "name": "stdout",
     "output_type": "stream",
     "text": [
      "1111000110101110111111010110010110110111011010100110010011111000010011000101100011011100000011011101010010011111001000110001111010001111000010000101011100010010110010010000011100011010011011101101111100100101011111011100011011101111011011010010011111110101011111101110100110111001110000111001101111110101000110100011010000101001010001111001101011101110110111110010010101111101110001101110111101101101001001111111010101111001010011010001001000110101001001010001101111111000100010000001100000101111111100011110001000100101111101000111001000001000001101010010110100110111100110000100101110111001001010111110111010001101000010100101000111100110101110111011011111000000110110001011101010000101110111111010100011000100010010111111001001111110011001011101001111110010101110011111011111000000111011010100101101001101111110101000110011010111000001001110100011010010110110100011100101101100101101011000101110111111010100001011100011110001000100101111101000111001000001000001101010010110100110111100110000100101110111001001010111110111011101101111100000011011000101110101000010111011111101010001100110101110000010011101000110011011111001111111100101101111110011110101101100011010000011010000010110001110010110110010110101001010011010001001000110001101110011010111101110000001101110101001001111100100011000111101010000000101111011111000111011010101011001100010001000000001101101010010110100110111011011111000001101110000001101001111101010111011111101010011111111100011010000011010010101110011010110111100011001100000101011000011001101001011111001011100011010011011111101111011111101010001101000110100001010010100011110011010111011101101111100100101011111011100011001000010001001011001111101101010010100110111100010100101010011011100111000101011000101110001011000110111101100110001111000110011010110111100011000011110000001101111001000111000001101101011101001101000001101001010111110111011111101010001101000110100001010010100011110011010111011101101111100000110101001011010011010010111100111111010001101110110110111100100010000001100110100110110101100010111000111000011100100110111101110110110111100100010000001100110100110110101100010111000110101111001101111100011110000111111101110110110111100100010000001100110100110110101\n"
     ]
    }
   ],
   "source": [
    "encode_data = encode(text)\n",
    "print(encode_data)"
   ]
  },
  {
   "cell_type": "code",
   "execution_count": 26,
   "metadata": {},
   "outputs": [
    {
     "name": "stdout",
     "output_type": "stream",
     "text": [
      "In this chapter we describe a very popular coding algorithm called the Huffman coding algorithm. We first present a procedure for building Huffman codes when the probability model for the source is known, then a procedure for building codes when the source statistics are unknown. We also describe a few techniques for code design that are in some sense similar to the Huffman coding approach. Finally, we give some examples of using the Huffman code for image compression, audio compression, and text compression\n"
     ]
    }
   ],
   "source": [
    "print(decode(tree, encode_data))"
   ]
  },
  {
   "cell_type": "code",
   "execution_count": null,
   "metadata": {},
   "outputs": [],
   "source": []
  }
 ],
 "metadata": {
  "kernelspec": {
   "display_name": "Python 3",
   "language": "python",
   "name": "python3"
  },
  "language_info": {
   "codemirror_mode": {
    "name": "ipython",
    "version": 3
   },
   "file_extension": ".py",
   "mimetype": "text/x-python",
   "name": "python",
   "nbconvert_exporter": "python",
   "pygments_lexer": "ipython3",
   "version": "3.5.4"
  }
 },
 "nbformat": 4,
 "nbformat_minor": 2
}
